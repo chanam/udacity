{
 "cells": [
  {
   "cell_type": "markdown",
   "metadata": {},
   "source": [
    "# Statistics: The Science of Decisions Project Instructions\n",
    "**Data Analyst Nanodegree P1: Test a Perceptual Phenomenon**\n",
    "\n",
    "**Chana Greene**\n",
    "\n",
    "## Background Information\n",
    "\n",
    "In a Stroop task, participants are presented with a list of words, with each word displayed in a color of ink. The participant’s task is to say out loud the color of the ink in which the word is printed. The task has two conditions: a congruent words condition, and an incongruent words condition. In the congruent words condition, the words being displayed are color words whose names match the colors in which they are printed: for example <font color='red'>RED</font>, <font color='blue'>BLUE</font>. In the incongruent words condition, the words displayed are color words whose names do not match the colors in which they are printed: for example <font color='green'>PURPLE</font>, <font color='purple'>ORANGE</font>. In each case, we measure the time it takes to name the ink colors in equally-sized lists. Each participant will go through and record a time from each condition.\n",
    "\n",
    "## Questions For Investigation\n",
    "\n",
    "As a general note, be sure to keep a record of any resources that you use or refer to in the creation of your project. You will need to report your sources as part of the project submission.\n",
    "\n",
    "[Question 1](#Q1)\n",
    "\n",
    "[Question 2](#Q2)\n",
    "\n",
    "[Question 3](#Q3)\n",
    "\n",
    "[Question 4](#Q4)\n",
    "\n",
    "[Question 5](#Q5)\n",
    "\n",
    "[Question 6](#Q6)\n",
    "\n",
    "[List of Resources](#Resources)"
   ]
  },
  {
   "cell_type": "markdown",
   "metadata": {},
   "source": [
    "## Answers\n",
    "\n",
    "**<a id='Q1'></a>1. What is our independent variable? What is our dependent variable? **\n",
    "\n",
    ">Independent variable - congruent vs incongruent words\n",
    "\n",
    ">Dependent variable - time to name the ink color\n",
    "\n",
    "**<a id='Q2'></a>2. What is an appropriate set of hypotheses for this task? What kind of statistical test do you expect to perform? Justify your choices.**\n",
    "\n",
    "> $H_0$ (null) - there is not a significant difference in the mean time to name the ink color between the congruent and incongruent sets words: $\\mu_c = \\mu_i$\n",
    "\n",
    "> $H_A$ (alt) - the mean time to name the ink color is statistically different for the incongruent word set than the congruent word set: $\\mu_c \\neq \\mu_i$.\n",
    "\n",
    "> Statistical Test - we should perform a dependent t-test for paired samples to determine whether or not to reject the null hypothesis since the alternative hypothesis is that the mean time to name the ink color will be higher for the incongruent word set.  We will use the p = 0.05 to determine significance.\n",
    "\n",
    "Now it’s your chance to try out the Stroop task for yourself. Go to [this link](https://www.google.com/url?q=https://faculty.washington.edu/chudler/java/ready.html&sa=D&usg=AFQjCNFRXmkTGaTjMtk1Xh0SPh-RiaZerA), which has a Java-based applet for performing the Stroop task. Record the times that you received on the task (you do not need to submit your times to the site.) Now, download [this dataset](https://www.google.com/url?q=https://drive.google.com/file/d/0B9Yf01UaIbUgQXpYb2NhZ29yX1U/view?usp%3Dsharing&sa=D&usg=AFQjCNGAjbK9VYD5GsQ8c_iRT9zH9QdOVg) which contains results from a number of participants in the task. Each row of the dataset contains the performance for one participant, with the first number their results on the congruent task and the second number their performance on the incongruent task.\n",
    "\n",
    "**<a id='Q3'></a>3. Report some descriptive statistics regarding this dataset. Include at least one measure of central tendency and at least one measure of variability.**"
   ]
  },
  {
   "cell_type": "code",
   "execution_count": 22,
   "metadata": {
    "collapsed": false
   },
   "outputs": [
    {
     "name": "stdout",
     "output_type": "stream",
     "text": [
      "Populating the interactive namespace from numpy and matplotlib\n",
      "Number of observations:\n",
      "Congruent      24\n",
      "Incongruent    24\n",
      "Diff           24\n",
      "dtype: int64 \n",
      "\n",
      "Series Mean:\n",
      "Congruent      14.051\n",
      "Incongruent    22.016\n",
      "Diff           -7.965\n",
      "dtype: float64 \n",
      "\n",
      "Series Median:\n",
      "Congruent      14.356\n",
      "Incongruent    21.018\n",
      "Diff           -7.666\n",
      "dtype: float64 \n",
      "\n",
      "Standard Deviation:\n",
      "Congruent      3.484\n",
      "Incongruent    4.696\n",
      "Diff           4.762\n",
      "dtype: float64 \n",
      "\n",
      "Sample Standard Deviation:\n",
      "Congruent      3.559\n",
      "Incongruent    4.797\n",
      "Diff           4.865\n",
      "dtype: float64 \n",
      "\n"
     ]
    }
   ],
   "source": [
    "import pandas as pd\n",
    "import numpy as np\n",
    "from scipy import stats\n",
    "import matplotlib.pyplot as plt\n",
    "import matplotlib\n",
    "%pylab inline\n",
    "\n",
    "matplotlib.style.use('ggplot')\n",
    "\n",
    "data_stroop = pd.read_csv('stroopdata.csv')\n",
    "data_stroop['Diff'] = data_stroop.Congruent - data_stroop.Incongruent\n",
    "print 'Number of observations:\\n', data_stroop.count(),'\\n'\n",
    "print 'Series Mean:\\n', data_stroop.mean().round(3),'\\n'\n",
    "print 'Series Median:\\n',data_stroop.median().round(3),'\\n'\n",
    "print 'Standard Deviation:\\n',data_stroop.std(ddof=0).round(3),'\\n'\n",
    "print 'Sample Standard Deviation:\\n',data_stroop.std().round(3),'\\n'"
   ]
  },
  {
   "cell_type": "markdown",
   "metadata": {},
   "source": [
    "The mean, median, mode(s) and standard deviation for the Congruent set, Incongruent set and their difference are in the table below:\n",
    "\n",
    "| Series | Mean | Median | Mode | Standard Deviation |\n",
    "|--------|------|--------|------|--------------------|\n",
    "|Congruent| 14.051|14.356|14-16 | 3.559|\n",
    "|Incongruent|22.016|21.018|20-23|4.797|\n",
    "|Difference|-7.965|-7.666|-2-(-4) & -10-(-12)|4.865|\n",
    "\n",
    "_Note_: We use the sample standard deviation because this data set represents a sampling of the population."
   ]
  },
  {
   "cell_type": "markdown",
   "metadata": {
    "collapsed": true
   },
   "source": [
    "**<a id='Q4'></a>4. Provide one or two visualizations that show the distribution of the sample data. Write one or two sentences noting what you observe about the plot or plots.**\n",
    "\n",
    "Histograms of the Congruent & Incongruent sets as well as their difference:"
   ]
  },
  {
   "cell_type": "code",
   "execution_count": 14,
   "metadata": {
    "collapsed": false
   },
   "outputs": [
    {
     "data": {
      "text/plain": [
       "array([[<matplotlib.axes._subplots.AxesSubplot object at 0x115cd9e90>,\n",
       "        <matplotlib.axes._subplots.AxesSubplot object at 0x116173c10>,\n",
       "        <matplotlib.axes._subplots.AxesSubplot object at 0x1161f0910>]], dtype=object)"
      ]
     },
     "execution_count": 14,
     "metadata": {},
     "output_type": "execute_result"
    },
    {
     "data": {
      "image/png": "[encoded data removed]",
      "text/plain": [
       "<matplotlib.figure.Figure at 0x115edc710>"
      ]
     },
     "metadata": {},
     "output_type": "display_data"
    }
   ],
   "source": [
    "data_stroop.hist(bins=8, normed=True, layout=(1,3), figsize=(16,4))"
   ]
  },
  {
   "cell_type": "code",
   "execution_count": 15,
   "metadata": {
    "collapsed": false
   },
   "outputs": [
    {
     "data": {
      "text/plain": [
       "<matplotlib.axes._subplots.AxesSubplot at 0x115ed0350>"
      ]
     },
     "execution_count": 15,
     "metadata": {},
     "output_type": "execute_result"
    },
    {
     "data": {
      "image/png": "[encoded data removed]",
      "text/plain": [
       "<matplotlib.figure.Figure at 0x115e90350>"
      ]
     },
     "metadata": {},
     "output_type": "display_data"
    }
   ],
   "source": [
    "data_stroop[['Congruent','Incongruent']].plot(kind='hist',bins=16,normed=True,alpha=0.5,figsize=(8,6))"
   ]
  },
  {
   "cell_type": "code",
   "execution_count": 16,
   "metadata": {
    "collapsed": true
   },
   "outputs": [],
   "source": [
    "data_stroop_norm = (data_stroop - data_stroop.mean())/data_stroop.std()"
   ]
  },
  {
   "cell_type": "code",
   "execution_count": 17,
   "metadata": {
    "collapsed": false
   },
   "outputs": [
    {
     "data": {
      "text/plain": [
       "<matplotlib.axes._subplots.AxesSubplot at 0x1166205d0>"
      ]
     },
     "execution_count": 17,
     "metadata": {},
     "output_type": "execute_result"
    },
    {
     "data": {
      "image/png": "[encoded data removed]",
      "text/plain": [
       "<matplotlib.figure.Figure at 0x115cd9e10>"
      ]
     },
     "metadata": {},
     "output_type": "display_data"
    }
   ],
   "source": [
    "data_stroop_norm[['Congruent','Incongruent']].plot(kind='hist',bins=10,alpha=0.5,figsize=(8,6))"
   ]
  },
  {
   "cell_type": "code",
   "execution_count": 18,
   "metadata": {
    "collapsed": false
   },
   "outputs": [
    {
     "data": {
      "text/plain": [
       "<matplotlib.axes._subplots.AxesSubplot at 0x11673c110>"
      ]
     },
     "execution_count": 18,
     "metadata": {},
     "output_type": "execute_result"
    },
    {
     "data": {
      "image/png": "[encoded data removed]",
      "text/plain": [
       "<matplotlib.figure.Figure at 0x116782690>"
      ]
     },
     "metadata": {},
     "output_type": "display_data"
    }
   ],
   "source": [
    "#plt.scatter(x=data_stroop['Congruent'],y=data_stroop['Incongruent'])\n",
    "data_stroop[['Congruent','Incongruent']].plot(kind='box',vert=False,sym='.',figsize=(8,6),\n",
    "                                              xlim=(min(data_stroop['Congruent'])-1,max(data_stroop['Incongruent'])+1))"
   ]
  },
  {
   "cell_type": "markdown",
   "metadata": {},
   "source": [
    "The distributions of the Congruent set and Incongruent set are roughly gaussian with a little overlap in their right and left tails respectively and the Congruent set is just slightly positively skewed.  This can also be seen in the box and wisker plots where the inner quartile range does not overlap for the two distributions but the median of the Incongruent set is just within the maximum of the Congruent set.  There are also two outliers from the Incongruent set.\n",
    "\n",
    "**<a id='Q5'></a>5. Now, perform the statistical test and report your results. What is your confidence level and your critical statistic value? Do you reject the null hypothesis or fail to reject it? Come to a conclusion in terms of the experiment task. Did the results match up with your expectations?**\n",
    "\n",
    "Since we are working with paired samples (each subject performed the task with the congruent and incongruent sets) we will perform the Dependent t-test for paired samples.\n",
    "\n",
    "$$\n",
    "t = \\frac{\\mu_c-\\mu_i}{\\frac{S_D}{\\sqrt{n}}}\n",
    "$$\n",
    "\n",
    "where,\n",
    "\n",
    "$S_D$ = standard error of the differences between samples\n",
    "\n",
    "$\\mu_c$ = the mean of the congruent set sample\n",
    "\n",
    "$\\mu_i$ = the mean of the incongruent set sample\n",
    "\n",
    "$n$ = the number of observations in each sample = 24\n",
    "\n",
    "For a confidence level of 95% (or p = 0.025 for a two-tailed test) and degrees of freedom = $n-1$ = 23 our critical statistic is $t_c = \\pm 2.069$\n"
   ]
  },
  {
   "cell_type": "code",
   "execution_count": 32,
   "metadata": {
    "collapsed": false
   },
   "outputs": [
    {
     "name": "stdout",
     "output_type": "stream",
     "text": [
      "t = -8.02\n",
      "\n",
      "p = 4.10300058571e-08\n"
     ]
    }
   ],
   "source": [
    "# Manually calculating the t value\n",
    "#t = data_stroop.mean()['Diff']/(data_stroop.std()['Diff']/np.sqrt(data_stroop.count()['Diff']))\n",
    "\n",
    "# Alternative method for calculating the t value with the scipy pkg\n",
    "# Also returns the p-value\n",
    "t = stats.ttest_rel(data_stroop.Congruent,data_stroop.Incongruent)\n",
    "\n",
    "print 't = ' + str(t[0].round(2)) + '\\n'\n",
    "print 'p = ' + str(t[1])"
   ]
  },
  {
   "cell_type": "markdown",
   "metadata": {},
   "source": [
    "After calculating the t-value we can reject the null hypothesis with a 95% confidence.  In fact, since $t = -8.02$ corresponds to $p = 4.10 x 10^{-8}$ we can actually reject the null hypothesis with a greater than 99.9% confidence.\n",
    "\n",
    "This means there is a statistical difference between the time to say the ink color between the congruent set and the incongruent set, or that there is less than a 0.1% chance that the two samples come from the same population (as represented by the mean time to say the ink color).  This matches expectations since descriptively and visually the two distributions looked different, however, without the t-test I would not have been able to predict the level of confidence."
   ]
  },
  {
   "cell_type": "markdown",
   "metadata": {},
   "source": [
    "**<a id='Q6'></a>6. Optional: What do you think is responsible for the effects observed? Can you think of an alternative or similar task that would result in a similar effect? Some research about the problem will be helpful for thinking about these two questions!**\n",
    "\n",
    "One hypothesis is that we automatically associate a color with the written word such that when working with the congruent set our initial association is reinforced and enables us to complete the task faster, while the incongruent set requires us to confront this association and re-think our gut response making us go slower.  Some variants that have been performed before also included neutral sets (names of color written in black ink or squares of color) where you are only processing one type of information (words or color).  It suggests that we are also faster at procesing written information than color, but I wonder if this would be true for a nacent reader.  It would be interesting to perform the experiment on a group of kindergartners to see if the same effect is exhibited."
   ]
  },
  {
   "cell_type": "markdown",
   "metadata": {},
   "source": [
    "## <a id='Resources'></a>List of Resources\n",
    "\n",
    "1. Pandas Documentation: http://pandas.pydata.org/pandas-docs/stable/index.html\n",
    "2. t-table: https://s3.amazonaws.com/udacity-hosted-downloads/t-table.jpg\n",
    "3. Stroop effect Wikipedia page: https://en.wikipedia.org/wiki/Stroop_effect"
   ]
  }
 ],
 "metadata": {
  "kernelspec": {
   "display_name": "Python 2",
   "language": "python",
   "name": "python2"
  },
  "language_info": {
   "codemirror_mode": {
    "name": "ipython",
    "version": 2
   },
   "file_extension": ".py",
   "mimetype": "text/x-python",
   "name": "python",
   "nbconvert_exporter": "python",
   "pygments_lexer": "ipython2",
   "version": "2.7.10"
  }
 },
 "nbformat": 4,
 "nbformat_minor": 0
}
